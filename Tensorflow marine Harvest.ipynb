{
 "cells": [
  {
   "cell_type": "code",
   "execution_count": null,
   "metadata": {
    "collapsed": true
   },
   "outputs": [],
   "source": [
    "import tensorflow as tf\n",
    "import numpy as np\n",
    "import csv\n",
    "import pandas as pd\n",
    "import numpy as np\n",
    "from scipy.ndimage.interpolation import shift\n",
    "import matplotlib.pyplot as plt"
   ]
  },
  {
   "cell_type": "code",
   "execution_count": null,
   "metadata": {
    "collapsed": true
   },
   "outputs": [],
   "source": [
    "# Parameters\n",
    "RANDOM_SEED = 42\n",
    "tf.set_random_seed(RANDOM_SEED)\n",
    "\n",
    "days_history = 4\n",
    "features = 4\n",
    "learningrate = 0.02\n",
    "epochs = 100\n",
    "percent_training = 0.8\n",
    "mid_layer_size = 32\n"
   ]
  },
  {
   "cell_type": "code",
   "execution_count": null,
   "metadata": {
    "collapsed": true
   },
   "outputs": [],
   "source": [
    "# Get dataset\n",
    "\n",
    "def get_dataset(name):\n",
    "    df = pd.read_csv(name, sep=';', index_col=0, encoding=\"Latin1\")\n",
    "    df = df[::-1]\n",
    "    df.columns = ['Siste', 'Kjoper', 'Selger', 'Hoy', 'Lav', 'Totalt_omsatt_NOK', 'Totalt_antall_aksjer_omsatt', 'Antall_off_handler', 'Antall_handler_totalt', 'VWAP']\n",
    "    return df\n",
    "\n",
    "\n",
    "def get_currency_data(name):\n",
    "    df = pd.read_csv(name, sep=';', index_col=0)\n",
    "    return df\n",
    "\n",
    "\n",
    "def append_currency_to_stock_price_df(df_stock, df_currency):\n",
    "    df_stock[\"Dollarkurs\"] = df_currency[\"1 USD\"]\n",
    "\n",
    "\n",
    "MHG = get_dataset(\"data\\\\MHG_data.csv\")\n",
    "nok = get_currency_data(\"data\\\\Valutakurser.csv\")\n",
    "\n",
    "append_currency_to_stock_price_df(MHG, nok)"
   ]
  },
  {
   "cell_type": "code",
   "execution_count": null,
   "metadata": {},
   "outputs": [],
   "source": [
    "# Initialize labels\n",
    "\n",
    "Up = MHG.Siste.diff(1) > 0\n",
    "\n",
    "n = len(Up)\n",
    "\n",
    "train = np.zeros((n, 2))\n",
    "train[:,0] = (Up.values == 0)\n",
    "train[:,1] = (Up.values == 1)\n",
    "\n",
    "cutoff = int(np.floor(n*percent_training))\n",
    "\n",
    "Y_train = train[:cutoff,:]\n",
    "Y_test = train[cutoff:,:]\n",
    "\n",
    "Y_train = Y_train[days_history:]\n",
    "print(Y_train.shape)\n",
    "print(Y_test.shape)"
   ]
  },
  {
   "cell_type": "code",
   "execution_count": null,
   "metadata": {},
   "outputs": [],
   "source": [
    "# Initialize training data\n",
    "input_dimension = features*days_history\n",
    "\n",
    "Siste_all = np.zeros((n, days_history))\n",
    "Siste = MHG.Siste.values\n",
    "\n",
    "Omsatte_all = np.zeros((n, days_history))\n",
    "Omsatte = MHG.Totalt_antall_aksjer_omsatt.values\n",
    "\n",
    "Antall_handler_all = np.zeros((n, days_history))\n",
    "Antall_handler = MHG.Antall_handler_totalt.values\n",
    "\n",
    "Valutakurs_all = np.zeros((n, days_history))\n",
    "Valutakurs = MHG.Dollarkurs.values\n",
    "\n",
    "\n",
    "def normalize(vector, ref):\n",
    "    ref_min = min(ref)\n",
    "    ref_max = max(ref)\n",
    "    vector -= ref_min\n",
    "    return vector / (ref_max-ref_min)\n",
    "    \n",
    "\n",
    "for i in range(days_history):\n",
    "    Siste_all[:,i] = np.roll(Siste, i)\n",
    "    Omsatte_all[:,i] = np.roll(Omsatte, i)\n",
    "    Antall_handler_all[:,i] = np.roll(Antall_handler, i)\n",
    "    Valutakurs_all[:,i] = np.roll(Valutakurs, i)\n",
    "   \n",
    "Siste_all = normalize(Siste_all, Siste)    \n",
    "Omsatte_all = normalize(Omsatte_all, Omsatte)\n",
    "Antall_handler_all = normalize(Antall_handler_all, Antall_handler)\n",
    "Valutakurs_all = normalize(Valutakurs_all, Valutakurs)\n",
    "\n",
    "plt.plot(Siste_all[cutoff:])\n",
    "plt.show()\n",
    "\n",
    "\n",
    "X_data = Siste_all\n",
    "\n",
    "X_data = np.append(X_data,Omsatte_all, 1)\n",
    "X_data = np.append(X_data,Antall_handler_all, 1)\n",
    "X_data= np.append(X_data,Valutakurs_all, 1)\n",
    "\n",
    "\n",
    "plt.plot(X_data[days_history:])\n",
    "plt.show()\n",
    "print(X_data.shape)\n",
    "\n",
    "X_train = X_data[:cutoff,:]\n",
    "X_test = X_data[cutoff:,:]\n",
    "X_train = X_train[days_history:]\n",
    "print(X_train.shape)\n",
    "print(X_test.shape)"
   ]
  },
  {
   "cell_type": "code",
   "execution_count": null,
   "metadata": {},
   "outputs": [],
   "source": [
    "# Setup graph\n",
    "def init_weights(shape):\n",
    "    \"\"\" Weight initialization \"\"\"\n",
    "    weights = tf.random_normal(shape, stddev=1)\n",
    "    return tf.Variable(weights)\n",
    "\n",
    "# Layer's sizes\n",
    "x_size = X_train.shape[1]  \n",
    "h_size = mid_layer_size              \n",
    "y_size = Y_train.shape[1] \n",
    "\n",
    "# Symbols\n",
    "X = tf.placeholder(\"float\", shape=[None, x_size])\n",
    "y = tf.placeholder(\"float\", shape=[None, y_size])\n",
    "\n",
    "# Weight initializations\n",
    "w_1 = init_weights((x_size, h_size))\n",
    "w_2 = init_weights((h_size, y_size))\n",
    "\n",
    "# Forward propagation\n",
    "h    = tf.nn.tanh(tf.matmul(X, w_1)) \n",
    "yhat = tf.nn.softmax(tf.matmul(h, w_2))\n",
    "predict = tf.argmax(yhat, axis=1)\n",
    "\n",
    "# Backward propagation\n",
    "cost    = tf.reduce_mean(tf.nn.softmax_cross_entropy_with_logits(labels=y, logits=yhat))\n",
    "updates = tf.train.GradientDescentOptimizer(learningrate).minimize(cost)\n"
   ]
  },
  {
   "cell_type": "code",
   "execution_count": null,
   "metadata": {},
   "outputs": [],
   "source": [
    "# Run graph\n",
    "config = tf.ConfigProto(device_count = {'GPU': 0})\n",
    "sess = tf.Session(config=config)\n",
    "init = tf.global_variables_initializer()\n",
    "sess.run(init)\n",
    "\n",
    "for epoch in range(epochs):\n",
    "    for i in range(len(X_train)):\n",
    "        sess.run(updates, feed_dict={X: X_train[i: i + 1], y: Y_train[i: i + 1]})\n",
    "\n",
    "    train_accuracy = np.mean(np.argmax(Y_train, axis=1) ==\n",
    "                 sess.run(predict, feed_dict={X: X_train, y: Y_train}))\n",
    "    test_accuracy  = np.mean(np.argmax(Y_test, axis=1) ==\n",
    "                 sess.run(predict, feed_dict={X: X_test, y: Y_test}))\n",
    "    number_of_negatives = np.average( sess.run(predict, feed_dict={X: X_train, y: Y_train}) == 0)\n",
    "    number_of_positives = np.average( sess.run(predict, feed_dict={X: X_train, y: Y_train}) == 1)\n",
    "    print(\"Epoch = %d, train accuracy = %.2f%%, test accuracy = %.2f%%. Positives: %.2f%%. Negatives %.2f%%.\"\n",
    "          % (epoch + 1, 100. * train_accuracy, 100. * test_accuracy, 100. * number_of_positives, 100. * number_of_negatives))\n"
   ]
  },
  {
   "cell_type": "code",
   "execution_count": null,
   "metadata": {},
   "outputs": [],
   "source": [
    "test_results = (np.argmax(Y_test, axis=1) == sess.run(predict, feed_dict={X: X_test, y: Y_test}))\n",
    "#print(sess.run(yhat, feed_dict={X: X_test, y: Y_test}))\n",
    "print(sess.run(predict, feed_dict={X: X_test, y: Y_test}))\n",
    "print(np.argmax(Y_test, axis=1))\n",
    "\n",
    "\n"
   ]
  },
  {
   "cell_type": "code",
   "execution_count": null,
   "metadata": {
    "collapsed": true
   },
   "outputs": [],
   "source": [
    "sess.close()"
   ]
  }
 ],
 "metadata": {
  "anaconda-cloud": {},
  "kernelspec": {
   "display_name": "Python [conda env:py35]",
   "language": "python",
   "name": "conda-env-py35-py"
  },
  "language_info": {
   "codemirror_mode": {
    "name": "ipython",
    "version": 3
   },
   "file_extension": ".py",
   "mimetype": "text/x-python",
   "name": "python",
   "nbconvert_exporter": "python",
   "pygments_lexer": "ipython3",
   "version": "3.5.3"
  }
 },
 "nbformat": 4,
 "nbformat_minor": 2
}
