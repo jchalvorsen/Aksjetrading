{
 "cells": [
  {
   "cell_type": "code",
   "execution_count": null,
   "metadata": {
    "collapsed": true
   },
   "outputs": [],
   "source": [
    "import matplotlib.pyplot as plt\n",
    "import matplotlib.dates as mdates\n",
    "import matplotlib.cbook as cbook\n",
    "import csv\n",
    "import pandas as pd\n",
    "import numpy as np"
   ]
  },
  {
   "cell_type": "code",
   "execution_count": null,
   "metadata": {
    "collapsed": false
   },
   "outputs": [],
   "source": [
    "def get_dataset(name):\n",
    "    df = pd.read_csv(name, sep=';', index_col=0)\n",
    "    df = df[::-1]\n",
    "    df.columns = ['Siste', 'Kjoper', 'Selger', 'Hoy', 'Lav', 'Totalt_omsatt_NOK', 'Totalt_antall_aksjer_omsatt', 'Antall_off_handler', 'Antall_handler_totalt', 'VWAP']\n",
    "    return df\n",
    "\n",
    "\n",
    "def get_currency_data(name):\n",
    "    df = pd.read_csv(name, sep=';', index_col=0)\n",
    "    return df\n",
    "\n",
    "\n",
    "def append_currency_to_stock_price_df(df_stock, df_currency):\n",
    "    df_stock[\"Dollarkurs\"] = df_currency[\"1 USD\"]\n",
    "\n",
    "\n",
    "MHG = get_dataset(\"data\\\\MHG_data.csv\")\n",
    "nok = get_currency_data(\"data\\\\Valutakurser.csv\")\n",
    "nok.fillna(-999999, inplace=True)\n",
    "print nok.head()\n",
    "\n",
    "append_currency_to_stock_price_df(MHG, nok)\n",
    "print MHG\n"
   ]
  },
  {
   "cell_type": "code",
   "execution_count": null,
   "metadata": {
    "collapsed": false
   },
   "outputs": [],
   "source": [
    "def plot_dataframe(df):\n",
    "    df.plot()\n",
    "    plt.show()\n",
    "    \n",
    "\n",
    "def plot_siste(df):\n",
    "    df = df.Siste\n",
    "    df.plot()\n",
    "    plt.show()\n",
    "\n",
    "    \n",
    "def plot_kjoper(df):\n",
    "    df = df.Kjoper\n",
    "    df.plot()\n",
    "    plt.show()\n",
    "    \n",
    "    \n",
    "def plot_omsatt_nok(df):\n",
    "    df = df.Totalt_omsatt_NOK\n",
    "    df.plot()\n",
    "    plt.show()\n",
    "    \n",
    "    \n",
    "def plot_omsatt_antall_aksjer(df):\n",
    "    df = df.Totalt_antall_aksjer_omsatt\n",
    "    df.plot()\n",
    "    plt.show()\n",
    "\n",
    "def plot_antall_handler_off(df):\n",
    "    df = df.Antall_off_handler\n",
    "    df.plot()\n",
    "    plt.show()\n",
    "    \n",
    "    \n",
    "def plot_antall_handler_totalt(df):\n",
    "    df = df.Antall_handler_totalt\n",
    "    df.plot()\n",
    "    plt.show()\n",
    "\n",
    "\n",
    "def plot_VWAP(df):\n",
    "    df = df.VWAP\n",
    "    df.plot()\n",
    "    plt.show()"
   ]
  },
  {
   "cell_type": "code",
   "execution_count": null,
   "metadata": {
    "collapsed": false
   },
   "outputs": [],
   "source": [
    "plot_siste(MHG)\n",
    "plot_kjoper(MHG)\n",
    "plot_omsatt_nok(MHG)\n",
    "plot_omsatt_antall_aksjer(MHG)\n",
    "plot_antall_handler_off(MHG)\n",
    "plot_antall_handler_totalt(MHG)\n",
    "plot_VWAP(MHG)"
   ]
  },
  {
   "cell_type": "code",
   "execution_count": null,
   "metadata": {
    "collapsed": false
   },
   "outputs": [],
   "source": []
  },
  {
   "cell_type": "code",
   "execution_count": null,
   "metadata": {
    "collapsed": true
   },
   "outputs": [],
   "source": []
  }
 ],
 "metadata": {
  "kernelspec": {
   "display_name": "Python 2",
   "language": "python",
   "name": "python2"
  },
  "language_info": {
   "codemirror_mode": {
    "name": "ipython",
    "version": 2
   },
   "file_extension": ".py",
   "mimetype": "text/x-python",
   "name": "python",
   "nbconvert_exporter": "python",
   "pygments_lexer": "ipython2",
   "version": "2.7.13"
  }
 },
 "nbformat": 4,
 "nbformat_minor": 2
}
