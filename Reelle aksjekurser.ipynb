{
 "cells": [
  {
   "cell_type": "code",
   "execution_count": null,
   "metadata": {},
   "outputs": [],
   "source": [
    "import matplotlib.pyplot as plt\n",
    "import matplotlib.dates as mdates\n",
    "import matplotlib.cbook as cbook\n",
    "import csv\n",
    "import pandas as pd\n",
    "import numpy as np\n",
    "import tflearn"
   ]
  },
  {
   "cell_type": "code",
   "execution_count": null,
   "metadata": {},
   "outputs": [],
   "source": [
    "def get_dataset(name):\n",
    "    df = pd.read_csv(name, sep=';', index_col=0, encoding=\"Latin1\")\n",
    "    df = df[::-1]\n",
    "    df.columns = ['Siste', 'Kjoper', 'Selger', 'Hoy', 'Lav', 'Totalt_omsatt_NOK', 'Totalt_antall_aksjer_omsatt', 'Antall_off_handler', 'Antall_handler_totalt', 'VWAP']\n",
    "    return df\n",
    "\n",
    "\n",
    "def get_currency_data(name):\n",
    "    df = pd.read_csv(name, sep=';', index_col=0)\n",
    "    return df\n",
    "\n",
    "\n",
    "def append_currency_to_stock_price_df(df_stock, df_currency):\n",
    "    df_stock[\"Dollarkurs\"] = df_currency[\"1 USD\"]\n",
    "\n",
    "\n",
    "MHG = get_dataset(\"data\\\\MHG_data.csv\")\n",
    "nok = get_currency_data(\"data\\\\Valutakurser.csv\")\n",
    "\n",
    "append_currency_to_stock_price_df(MHG, nok)\n",
    "print(MHG)\n"
   ]
  },
  {
   "cell_type": "code",
   "execution_count": null,
   "metadata": {},
   "outputs": [],
   "source": [
    "def plot_dataframe(df):\n",
    "    df.plot()\n",
    "    plt.show()\n",
    "    \n",
    "\n",
    "def plot_siste(df):\n",
    "    df = df.Siste\n",
    "    df.plot()\n",
    "    plt.show()\n",
    "\n",
    "    \n",
    "def plot_kjoper(df):\n",
    "    df = df.Kjoper\n",
    "    df.plot()\n",
    "    plt.show()\n",
    "    \n",
    "    \n",
    "def plot_omsatt_nok(df):\n",
    "    df = df.Totalt_omsatt_NOK\n",
    "    df.plot()\n",
    "    plt.show()\n",
    "    \n",
    "    \n",
    "def plot_omsatt_antall_aksjer(df):\n",
    "    df = df.Totalt_antall_aksjer_omsatt\n",
    "    df.plot()\n",
    "    plt.show()\n",
    "\n",
    "def plot_antall_handler_off(df):\n",
    "    df = df.Antall_off_handler\n",
    "    df.plot()\n",
    "    plt.show()\n",
    "    \n",
    "    \n",
    "def plot_antall_handler_totalt(df):\n",
    "    df = df.Antall_handler_totalt\n",
    "    df.plot()\n",
    "    plt.show()\n",
    "\n",
    "\n",
    "def plot_VWAP(df):\n",
    "    df = df.VWAP\n",
    "    df.plot()\n",
    "    plt.show()"
   ]
  },
  {
   "cell_type": "code",
   "execution_count": null,
   "metadata": {
    "scrolled": false
   },
   "outputs": [],
   "source": [
    "plot_siste(MHG)\n",
    "plot_kjoper(MHG)\n",
    "plot_omsatt_nok(MHG)\n",
    "plot_omsatt_antall_aksjer(MHG)\n",
    "plot_antall_handler_off(MHG)\n",
    "plot_antall_handler_totalt(MHG)\n",
    "plot_VWAP(MHG)"
   ]
  },
  {
   "cell_type": "code",
   "execution_count": null,
   "metadata": {},
   "outputs": [],
   "source": [
    "\n",
    "# Setup neural network\n",
    "\n",
    "days_history = 10\n",
    "\n",
    "import tflearn.datasets.mnist as mnist\n",
    "X, Y, testX, testY = mnist.load_data(one_hot=True)\n",
    "\n",
    "# Build deep neural network\n",
    "input_layer = tflearn.input_data(shape=[None, days_history])\n",
    "\n",
    "dense1 = tflearn.fully_connected(input_layer, 10, activation='tanh',\n",
    "                                 regularizer='L2', weight_decay=0.001)\n",
    "\n",
    "dropout1 = tflearn.dropout(dense1, 0.8)\n",
    "\n",
    "softmax = tflearn.fully_connected(dropout1, 2, activation='softmax')\n",
    "\n",
    "# Regression using SGD with learning rate decay and Top-1 accuracy\n",
    "sgd = tflearn.SGD(learning_rate=0.1, lr_decay=0.96, decay_step=1000)\n",
    "top_k = tflearn.metrics.Top_k(1)\n",
    "net = tflearn.regression(softmax, optimizer=sgd, metric=top_k,\n",
    "                         loss='categorical_crossentropy')\n",
    "\n",
    "# Training\n",
    "model = tflearn.DNN(net, tensorboard_verbose=0)\n",
    "model.fit(X, Y, n_epoch=20, validation_set=(testX, testY),\n",
    "          show_metric=True, run_id=\"dense_model\")"
   ]
  },
  {
   "cell_type": "code",
   "execution_count": null,
   "metadata": {
    "collapsed": true
   },
   "outputs": [],
   "source": []
  }
 ],
 "metadata": {
  "anaconda-cloud": {},
  "celltoolbar": "Raw Cell Format",
  "kernelspec": {
   "display_name": "Python [conda env:py35]",
   "language": "python",
   "name": "conda-env-py35-py"
  },
  "language_info": {
   "codemirror_mode": {
    "name": "ipython",
    "version": 3
   },
   "file_extension": ".py",
   "mimetype": "text/x-python",
   "name": "python",
   "nbconvert_exporter": "python",
   "pygments_lexer": "ipython3",
   "version": "3.5.3"
  }
 },
 "nbformat": 4,
 "nbformat_minor": 2
}
